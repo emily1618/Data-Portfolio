{
  "nbformat": 4,
  "nbformat_minor": 0,
  "metadata": {
    "colab": {
      "name": "HW1-EmilyTingLiang.ipynb",
      "provenance": [],
      "authorship_tag": "ABX9TyP8mvNhjllZ690au2PNswOF",
      "include_colab_link": true
    },
    "kernelspec": {
      "name": "python3",
      "display_name": "Python 3"
    },
    "language_info": {
      "name": "python"
    }
  },
  "cells": [
    {
      "cell_type": "markdown",
      "metadata": {
        "id": "view-in-github",
        "colab_type": "text"
      },
      "source": [
        "<a href=\"https://colab.research.google.com/github/xtenix88/Data-Portfolio/blob/main/HW1.ipynb\" target=\"_parent\"><img src=\"https://colab.research.google.com/assets/colab-badge.svg\" alt=\"Open In Colab\"/></a>"
      ]
    },
    {
      "cell_type": "code",
      "execution_count": 28,
      "metadata": {
        "id": "tLIIA1C8Zn_8"
      },
      "outputs": [],
      "source": [
        "import pandas as pd\n",
        "import numpy as np\n",
        "import seaborn as sns\n",
        "import matplotlib.pyplot as plt\n",
        "from sklearn.metrics import confusion_matrix, accuracy_score, classification_report\n",
        "from sklearn.neighbors import KNeighborsClassifier \n",
        "import sklearn.metrics as metrics"
      ]
    },
    {
      "cell_type": "markdown",
      "source": [
        "**a) Use the Machine Learning algorithm: k-NN, to classify multiphase flow patterns, using the database BD12Experiments6FP.csv and evaluate the performance.**\n"
      ],
      "metadata": {
        "id": "K6EoZu7HaMW9"
      }
    },
    {
      "cell_type": "code",
      "source": [
        "df = pd.read_csv('/content/BD12Experiments6FP.csv')"
      ],
      "metadata": {
        "id": "7IwdoijTaNfC"
      },
      "execution_count": 11,
      "outputs": []
    },
    {
      "cell_type": "code",
      "source": [
        "df.head(5)"
      ],
      "metadata": {
        "colab": {
          "base_uri": "https://localhost:8080/",
          "height": 206
        },
        "id": "4Udr_h82a9Zm",
        "outputId": "82abc79e-1078-4081-9a70-919837b165c7"
      },
      "execution_count": 12,
      "outputs": [
        {
          "output_type": "execute_result",
          "data": {
            "text/html": [
              "\n",
              "  <div id=\"df-338aa8ff-4ed3-4a54-b257-665fc4387ab8\">\n",
              "    <div class=\"colab-df-container\">\n",
              "      <div>\n",
              "<style scoped>\n",
              "    .dataframe tbody tr th:only-of-type {\n",
              "        vertical-align: middle;\n",
              "    }\n",
              "\n",
              "    .dataframe tbody tr th {\n",
              "        vertical-align: top;\n",
              "    }\n",
              "\n",
              "    .dataframe thead th {\n",
              "        text-align: right;\n",
              "    }\n",
              "</style>\n",
              "<table border=\"1\" class=\"dataframe\">\n",
              "  <thead>\n",
              "    <tr style=\"text-align: right;\">\n",
              "      <th></th>\n",
              "      <th>Vsl</th>\n",
              "      <th>Vsg</th>\n",
              "      <th>VisL</th>\n",
              "      <th>VisG</th>\n",
              "      <th>DenL</th>\n",
              "      <th>DenG</th>\n",
              "      <th>ST</th>\n",
              "      <th>Ang</th>\n",
              "      <th>ID</th>\n",
              "      <th>FlowPattern</th>\n",
              "    </tr>\n",
              "  </thead>\n",
              "  <tbody>\n",
              "    <tr>\n",
              "      <th>0</th>\n",
              "      <td>0.04482</td>\n",
              "      <td>0.81402</td>\n",
              "      <td>0.001</td>\n",
              "      <td>0.00007</td>\n",
              "      <td>1000.0</td>\n",
              "      <td>1.12</td>\n",
              "      <td>0.07</td>\n",
              "      <td>0.0</td>\n",
              "      <td>0.0254</td>\n",
              "      <td>3</td>\n",
              "    </tr>\n",
              "    <tr>\n",
              "      <th>1</th>\n",
              "      <td>0.06098</td>\n",
              "      <td>0.81402</td>\n",
              "      <td>0.001</td>\n",
              "      <td>0.00007</td>\n",
              "      <td>1000.0</td>\n",
              "      <td>1.12</td>\n",
              "      <td>0.07</td>\n",
              "      <td>0.0</td>\n",
              "      <td>0.0254</td>\n",
              "      <td>5</td>\n",
              "    </tr>\n",
              "    <tr>\n",
              "      <th>2</th>\n",
              "      <td>0.08811</td>\n",
              "      <td>0.81402</td>\n",
              "      <td>0.001</td>\n",
              "      <td>0.00007</td>\n",
              "      <td>1000.0</td>\n",
              "      <td>1.12</td>\n",
              "      <td>0.07</td>\n",
              "      <td>0.0</td>\n",
              "      <td>0.0254</td>\n",
              "      <td>5</td>\n",
              "    </tr>\n",
              "    <tr>\n",
              "      <th>3</th>\n",
              "      <td>0.06098</td>\n",
              "      <td>1.10366</td>\n",
              "      <td>0.001</td>\n",
              "      <td>0.00007</td>\n",
              "      <td>1000.0</td>\n",
              "      <td>1.12</td>\n",
              "      <td>0.07</td>\n",
              "      <td>0.0</td>\n",
              "      <td>0.0254</td>\n",
              "      <td>5</td>\n",
              "    </tr>\n",
              "    <tr>\n",
              "      <th>4</th>\n",
              "      <td>0.12195</td>\n",
              "      <td>1.10366</td>\n",
              "      <td>0.001</td>\n",
              "      <td>0.00007</td>\n",
              "      <td>1000.0</td>\n",
              "      <td>1.12</td>\n",
              "      <td>0.07</td>\n",
              "      <td>0.0</td>\n",
              "      <td>0.0254</td>\n",
              "      <td>5</td>\n",
              "    </tr>\n",
              "  </tbody>\n",
              "</table>\n",
              "</div>\n",
              "      <button class=\"colab-df-convert\" onclick=\"convertToInteractive('df-338aa8ff-4ed3-4a54-b257-665fc4387ab8')\"\n",
              "              title=\"Convert this dataframe to an interactive table.\"\n",
              "              style=\"display:none;\">\n",
              "        \n",
              "  <svg xmlns=\"http://www.w3.org/2000/svg\" height=\"24px\"viewBox=\"0 0 24 24\"\n",
              "       width=\"24px\">\n",
              "    <path d=\"M0 0h24v24H0V0z\" fill=\"none\"/>\n",
              "    <path d=\"M18.56 5.44l.94 2.06.94-2.06 2.06-.94-2.06-.94-.94-2.06-.94 2.06-2.06.94zm-11 1L8.5 8.5l.94-2.06 2.06-.94-2.06-.94L8.5 2.5l-.94 2.06-2.06.94zm10 10l.94 2.06.94-2.06 2.06-.94-2.06-.94-.94-2.06-.94 2.06-2.06.94z\"/><path d=\"M17.41 7.96l-1.37-1.37c-.4-.4-.92-.59-1.43-.59-.52 0-1.04.2-1.43.59L10.3 9.45l-7.72 7.72c-.78.78-.78 2.05 0 2.83L4 21.41c.39.39.9.59 1.41.59.51 0 1.02-.2 1.41-.59l7.78-7.78 2.81-2.81c.8-.78.8-2.07 0-2.86zM5.41 20L4 18.59l7.72-7.72 1.47 1.35L5.41 20z\"/>\n",
              "  </svg>\n",
              "      </button>\n",
              "      \n",
              "  <style>\n",
              "    .colab-df-container {\n",
              "      display:flex;\n",
              "      flex-wrap:wrap;\n",
              "      gap: 12px;\n",
              "    }\n",
              "\n",
              "    .colab-df-convert {\n",
              "      background-color: #E8F0FE;\n",
              "      border: none;\n",
              "      border-radius: 50%;\n",
              "      cursor: pointer;\n",
              "      display: none;\n",
              "      fill: #1967D2;\n",
              "      height: 32px;\n",
              "      padding: 0 0 0 0;\n",
              "      width: 32px;\n",
              "    }\n",
              "\n",
              "    .colab-df-convert:hover {\n",
              "      background-color: #E2EBFA;\n",
              "      box-shadow: 0px 1px 2px rgba(60, 64, 67, 0.3), 0px 1px 3px 1px rgba(60, 64, 67, 0.15);\n",
              "      fill: #174EA6;\n",
              "    }\n",
              "\n",
              "    [theme=dark] .colab-df-convert {\n",
              "      background-color: #3B4455;\n",
              "      fill: #D2E3FC;\n",
              "    }\n",
              "\n",
              "    [theme=dark] .colab-df-convert:hover {\n",
              "      background-color: #434B5C;\n",
              "      box-shadow: 0px 1px 3px 1px rgba(0, 0, 0, 0.15);\n",
              "      filter: drop-shadow(0px 1px 2px rgba(0, 0, 0, 0.3));\n",
              "      fill: #FFFFFF;\n",
              "    }\n",
              "  </style>\n",
              "\n",
              "      <script>\n",
              "        const buttonEl =\n",
              "          document.querySelector('#df-338aa8ff-4ed3-4a54-b257-665fc4387ab8 button.colab-df-convert');\n",
              "        buttonEl.style.display =\n",
              "          google.colab.kernel.accessAllowed ? 'block' : 'none';\n",
              "\n",
              "        async function convertToInteractive(key) {\n",
              "          const element = document.querySelector('#df-338aa8ff-4ed3-4a54-b257-665fc4387ab8');\n",
              "          const dataTable =\n",
              "            await google.colab.kernel.invokeFunction('convertToInteractive',\n",
              "                                                     [key], {});\n",
              "          if (!dataTable) return;\n",
              "\n",
              "          const docLinkHtml = 'Like what you see? Visit the ' +\n",
              "            '<a target=\"_blank\" href=https://colab.research.google.com/notebooks/data_table.ipynb>data table notebook</a>'\n",
              "            + ' to learn more about interactive tables.';\n",
              "          element.innerHTML = '';\n",
              "          dataTable['output_type'] = 'display_data';\n",
              "          await google.colab.output.renderOutput(dataTable, element);\n",
              "          const docLink = document.createElement('div');\n",
              "          docLink.innerHTML = docLinkHtml;\n",
              "          element.appendChild(docLink);\n",
              "        }\n",
              "      </script>\n",
              "    </div>\n",
              "  </div>\n",
              "  "
            ],
            "text/plain": [
              "       Vsl      Vsg   VisL     VisG  ...    ST  Ang      ID  FlowPattern\n",
              "0  0.04482  0.81402  0.001  0.00007  ...  0.07  0.0  0.0254            3\n",
              "1  0.06098  0.81402  0.001  0.00007  ...  0.07  0.0  0.0254            5\n",
              "2  0.08811  0.81402  0.001  0.00007  ...  0.07  0.0  0.0254            5\n",
              "3  0.06098  1.10366  0.001  0.00007  ...  0.07  0.0  0.0254            5\n",
              "4  0.12195  1.10366  0.001  0.00007  ...  0.07  0.0  0.0254            5\n",
              "\n",
              "[5 rows x 10 columns]"
            ]
          },
          "metadata": {},
          "execution_count": 12
        }
      ]
    },
    {
      "cell_type": "code",
      "source": [
        "df.describe()"
      ],
      "metadata": {
        "colab": {
          "base_uri": "https://localhost:8080/",
          "height": 300
        },
        "id": "WhYNcaDKbPOY",
        "outputId": "f306462c-a569-4046-e535-e88cabe86da2"
      },
      "execution_count": 13,
      "outputs": [
        {
          "output_type": "execute_result",
          "data": {
            "text/html": [
              "\n",
              "  <div id=\"df-0a4ab9db-5988-483b-a944-828fe3a39a9d\">\n",
              "    <div class=\"colab-df-container\">\n",
              "      <div>\n",
              "<style scoped>\n",
              "    .dataframe tbody tr th:only-of-type {\n",
              "        vertical-align: middle;\n",
              "    }\n",
              "\n",
              "    .dataframe tbody tr th {\n",
              "        vertical-align: top;\n",
              "    }\n",
              "\n",
              "    .dataframe thead th {\n",
              "        text-align: right;\n",
              "    }\n",
              "</style>\n",
              "<table border=\"1\" class=\"dataframe\">\n",
              "  <thead>\n",
              "    <tr style=\"text-align: right;\">\n",
              "      <th></th>\n",
              "      <th>Vsl</th>\n",
              "      <th>Vsg</th>\n",
              "      <th>VisL</th>\n",
              "      <th>VisG</th>\n",
              "      <th>DenL</th>\n",
              "      <th>DenG</th>\n",
              "      <th>ST</th>\n",
              "      <th>Ang</th>\n",
              "      <th>ID</th>\n",
              "      <th>FlowPattern</th>\n",
              "    </tr>\n",
              "  </thead>\n",
              "  <tbody>\n",
              "    <tr>\n",
              "      <th>count</th>\n",
              "      <td>9029.000000</td>\n",
              "      <td>9029.000000</td>\n",
              "      <td>9029.000000</td>\n",
              "      <td>9029.000000</td>\n",
              "      <td>9029.000000</td>\n",
              "      <td>9029.000000</td>\n",
              "      <td>9029.000000</td>\n",
              "      <td>9029.000000</td>\n",
              "      <td>9029.000000</td>\n",
              "      <td>9029.000000</td>\n",
              "    </tr>\n",
              "    <tr>\n",
              "      <th>mean</th>\n",
              "      <td>0.786837</td>\n",
              "      <td>5.894700</td>\n",
              "      <td>0.012334</td>\n",
              "      <td>0.000017</td>\n",
              "      <td>951.239041</td>\n",
              "      <td>4.136893</td>\n",
              "      <td>3.234937</td>\n",
              "      <td>3.609715</td>\n",
              "      <td>0.047157</td>\n",
              "      <td>4.052608</td>\n",
              "    </tr>\n",
              "    <tr>\n",
              "      <th>std</th>\n",
              "      <td>1.282596</td>\n",
              "      <td>10.415176</td>\n",
              "      <td>0.066958</td>\n",
              "      <td>0.000009</td>\n",
              "      <td>109.882425</td>\n",
              "      <td>8.681986</td>\n",
              "      <td>22.233329</td>\n",
              "      <td>38.746648</td>\n",
              "      <td>0.026143</td>\n",
              "      <td>1.365682</td>\n",
              "    </tr>\n",
              "    <tr>\n",
              "      <th>min</th>\n",
              "      <td>0.000240</td>\n",
              "      <td>0.003720</td>\n",
              "      <td>0.000010</td>\n",
              "      <td>0.000000</td>\n",
              "      <td>77.041600</td>\n",
              "      <td>0.125410</td>\n",
              "      <td>0.013400</td>\n",
              "      <td>-90.000000</td>\n",
              "      <td>0.008740</td>\n",
              "      <td>1.000000</td>\n",
              "    </tr>\n",
              "    <tr>\n",
              "      <th>25%</th>\n",
              "      <td>0.045640</td>\n",
              "      <td>0.173660</td>\n",
              "      <td>0.001000</td>\n",
              "      <td>0.000010</td>\n",
              "      <td>879.400000</td>\n",
              "      <td>1.800000</td>\n",
              "      <td>0.032000</td>\n",
              "      <td>-1.000000</td>\n",
              "      <td>0.025000</td>\n",
              "      <td>3.000000</td>\n",
              "    </tr>\n",
              "    <tr>\n",
              "      <th>50%</th>\n",
              "      <td>0.210810</td>\n",
              "      <td>1.581710</td>\n",
              "      <td>0.001000</td>\n",
              "      <td>0.000020</td>\n",
              "      <td>1000.000000</td>\n",
              "      <td>1.800000</td>\n",
              "      <td>0.070000</td>\n",
              "      <td>0.250000</td>\n",
              "      <td>0.051000</td>\n",
              "      <td>5.000000</td>\n",
              "    </tr>\n",
              "    <tr>\n",
              "      <th>75%</th>\n",
              "      <td>1.000000</td>\n",
              "      <td>7.469510</td>\n",
              "      <td>0.003220</td>\n",
              "      <td>0.000020</td>\n",
              "      <td>1000.000000</td>\n",
              "      <td>4.134000</td>\n",
              "      <td>0.070000</td>\n",
              "      <td>10.000000</td>\n",
              "      <td>0.051000</td>\n",
              "      <td>5.000000</td>\n",
              "    </tr>\n",
              "    <tr>\n",
              "      <th>max</th>\n",
              "      <td>25.517000</td>\n",
              "      <td>200.609760</td>\n",
              "      <td>0.601280</td>\n",
              "      <td>0.000070</td>\n",
              "      <td>1059.000000</td>\n",
              "      <td>102.500000</td>\n",
              "      <td>238.070000</td>\n",
              "      <td>90.000000</td>\n",
              "      <td>0.189000</td>\n",
              "      <td>7.000000</td>\n",
              "    </tr>\n",
              "  </tbody>\n",
              "</table>\n",
              "</div>\n",
              "      <button class=\"colab-df-convert\" onclick=\"convertToInteractive('df-0a4ab9db-5988-483b-a944-828fe3a39a9d')\"\n",
              "              title=\"Convert this dataframe to an interactive table.\"\n",
              "              style=\"display:none;\">\n",
              "        \n",
              "  <svg xmlns=\"http://www.w3.org/2000/svg\" height=\"24px\"viewBox=\"0 0 24 24\"\n",
              "       width=\"24px\">\n",
              "    <path d=\"M0 0h24v24H0V0z\" fill=\"none\"/>\n",
              "    <path d=\"M18.56 5.44l.94 2.06.94-2.06 2.06-.94-2.06-.94-.94-2.06-.94 2.06-2.06.94zm-11 1L8.5 8.5l.94-2.06 2.06-.94-2.06-.94L8.5 2.5l-.94 2.06-2.06.94zm10 10l.94 2.06.94-2.06 2.06-.94-2.06-.94-.94-2.06-.94 2.06-2.06.94z\"/><path d=\"M17.41 7.96l-1.37-1.37c-.4-.4-.92-.59-1.43-.59-.52 0-1.04.2-1.43.59L10.3 9.45l-7.72 7.72c-.78.78-.78 2.05 0 2.83L4 21.41c.39.39.9.59 1.41.59.51 0 1.02-.2 1.41-.59l7.78-7.78 2.81-2.81c.8-.78.8-2.07 0-2.86zM5.41 20L4 18.59l7.72-7.72 1.47 1.35L5.41 20z\"/>\n",
              "  </svg>\n",
              "      </button>\n",
              "      \n",
              "  <style>\n",
              "    .colab-df-container {\n",
              "      display:flex;\n",
              "      flex-wrap:wrap;\n",
              "      gap: 12px;\n",
              "    }\n",
              "\n",
              "    .colab-df-convert {\n",
              "      background-color: #E8F0FE;\n",
              "      border: none;\n",
              "      border-radius: 50%;\n",
              "      cursor: pointer;\n",
              "      display: none;\n",
              "      fill: #1967D2;\n",
              "      height: 32px;\n",
              "      padding: 0 0 0 0;\n",
              "      width: 32px;\n",
              "    }\n",
              "\n",
              "    .colab-df-convert:hover {\n",
              "      background-color: #E2EBFA;\n",
              "      box-shadow: 0px 1px 2px rgba(60, 64, 67, 0.3), 0px 1px 3px 1px rgba(60, 64, 67, 0.15);\n",
              "      fill: #174EA6;\n",
              "    }\n",
              "\n",
              "    [theme=dark] .colab-df-convert {\n",
              "      background-color: #3B4455;\n",
              "      fill: #D2E3FC;\n",
              "    }\n",
              "\n",
              "    [theme=dark] .colab-df-convert:hover {\n",
              "      background-color: #434B5C;\n",
              "      box-shadow: 0px 1px 3px 1px rgba(0, 0, 0, 0.15);\n",
              "      filter: drop-shadow(0px 1px 2px rgba(0, 0, 0, 0.3));\n",
              "      fill: #FFFFFF;\n",
              "    }\n",
              "  </style>\n",
              "\n",
              "      <script>\n",
              "        const buttonEl =\n",
              "          document.querySelector('#df-0a4ab9db-5988-483b-a944-828fe3a39a9d button.colab-df-convert');\n",
              "        buttonEl.style.display =\n",
              "          google.colab.kernel.accessAllowed ? 'block' : 'none';\n",
              "\n",
              "        async function convertToInteractive(key) {\n",
              "          const element = document.querySelector('#df-0a4ab9db-5988-483b-a944-828fe3a39a9d');\n",
              "          const dataTable =\n",
              "            await google.colab.kernel.invokeFunction('convertToInteractive',\n",
              "                                                     [key], {});\n",
              "          if (!dataTable) return;\n",
              "\n",
              "          const docLinkHtml = 'Like what you see? Visit the ' +\n",
              "            '<a target=\"_blank\" href=https://colab.research.google.com/notebooks/data_table.ipynb>data table notebook</a>'\n",
              "            + ' to learn more about interactive tables.';\n",
              "          element.innerHTML = '';\n",
              "          dataTable['output_type'] = 'display_data';\n",
              "          await google.colab.output.renderOutput(dataTable, element);\n",
              "          const docLink = document.createElement('div');\n",
              "          docLink.innerHTML = docLinkHtml;\n",
              "          element.appendChild(docLink);\n",
              "        }\n",
              "      </script>\n",
              "    </div>\n",
              "  </div>\n",
              "  "
            ],
            "text/plain": [
              "               Vsl          Vsg  ...           ID  FlowPattern\n",
              "count  9029.000000  9029.000000  ...  9029.000000  9029.000000\n",
              "mean      0.786837     5.894700  ...     0.047157     4.052608\n",
              "std       1.282596    10.415176  ...     0.026143     1.365682\n",
              "min       0.000240     0.003720  ...     0.008740     1.000000\n",
              "25%       0.045640     0.173660  ...     0.025000     3.000000\n",
              "50%       0.210810     1.581710  ...     0.051000     5.000000\n",
              "75%       1.000000     7.469510  ...     0.051000     5.000000\n",
              "max      25.517000   200.609760  ...     0.189000     7.000000\n",
              "\n",
              "[8 rows x 10 columns]"
            ]
          },
          "metadata": {},
          "execution_count": 13
        }
      ]
    },
    {
      "cell_type": "code",
      "source": [
        "# Check the dataset's datatypes\n",
        "\n",
        "df.dtypes"
      ],
      "metadata": {
        "colab": {
          "base_uri": "https://localhost:8080/"
        },
        "id": "cJWLTDBZcSsY",
        "outputId": "2caffa59-e86a-4cde-ede4-c564ede327ad"
      },
      "execution_count": 15,
      "outputs": [
        {
          "output_type": "execute_result",
          "data": {
            "text/plain": [
              "Vsl            float64\n",
              "Vsg            float64\n",
              "VisL           float64\n",
              "VisG           float64\n",
              "DenL           float64\n",
              "DenG           float64\n",
              "ST             float64\n",
              "Ang            float64\n",
              "ID             float64\n",
              "FlowPattern      int64\n",
              "dtype: object"
            ]
          },
          "metadata": {},
          "execution_count": 15
        }
      ]
    },
    {
      "cell_type": "code",
      "source": [
        "# Check the dependent variable Y\n",
        "\n",
        "df['FlowPattern'].value_counts()"
      ],
      "metadata": {
        "colab": {
          "base_uri": "https://localhost:8080/"
        },
        "id": "scVaft_ibWFn",
        "outputId": "3ddddaeb-8eb1-4356-df1d-9c1116b03563"
      },
      "execution_count": 14,
      "outputs": [
        {
          "output_type": "execute_result",
          "data": {
            "text/plain": [
              "5    4721\n",
              "4    1664\n",
              "3    1093\n",
              "1     816\n",
              "2     582\n",
              "7     153\n",
              "Name: FlowPattern, dtype: int64"
            ]
          },
          "metadata": {},
          "execution_count": 14
        }
      ]
    },
    {
      "cell_type": "code",
      "source": [
        "# Check for null values\n",
        "\n",
        "df.isna().sum() "
      ],
      "metadata": {
        "colab": {
          "base_uri": "https://localhost:8080/"
        },
        "id": "L1ztDvthcUsZ",
        "outputId": "bff302c2-d3c7-4f33-8751-6b8c6082f0a7"
      },
      "execution_count": 16,
      "outputs": [
        {
          "output_type": "execute_result",
          "data": {
            "text/plain": [
              "Vsl            0\n",
              "Vsg            0\n",
              "VisL           0\n",
              "VisG           0\n",
              "DenL           0\n",
              "DenG           0\n",
              "ST             0\n",
              "Ang            0\n",
              "ID             0\n",
              "FlowPattern    0\n",
              "dtype: int64"
            ]
          },
          "metadata": {},
          "execution_count": 16
        }
      ]
    },
    {
      "cell_type": "code",
      "source": [
        "# Creating train and test data\n",
        "\n",
        "X = df.drop(['FlowPattern'], axis=1)\n",
        "y = df['FlowPattern']"
      ],
      "metadata": {
        "id": "_AEpU_48bC53"
      },
      "execution_count": 17,
      "outputs": []
    },
    {
      "cell_type": "code",
      "source": [
        "print(X.shape)\n",
        "print(y.shape)"
      ],
      "metadata": {
        "colab": {
          "base_uri": "https://localhost:8080/"
        },
        "id": "J1Z-bbkIb-Ju",
        "outputId": "5f953562-b508-4985-dbd5-b13f29ce3a72"
      },
      "execution_count": 51,
      "outputs": [
        {
          "output_type": "stream",
          "name": "stdout",
          "text": [
            "(9029, 9)\n",
            "(9029,)\n"
          ]
        }
      ]
    },
    {
      "cell_type": "code",
      "source": [
        "# Split the data into train and test\n",
        "\n",
        "from sklearn.model_selection import train_test_split\n",
        "X_train, X_test, y_train, y_test = train_test_split(X, y, test_size=0.2, random_state=42)"
      ],
      "metadata": {
        "id": "8vcR_fL8dEvB"
      },
      "execution_count": 20,
      "outputs": []
    },
    {
      "cell_type": "code",
      "source": [
        "print('Training shape: ', X_train.shape)\n",
        "print('Testing shape: ', X_test.shape)\n",
        "print('Labels Training shape: ', y_train.shape)\n",
        "print('Labels Testing shape: ', y_test.shape)"
      ],
      "metadata": {
        "colab": {
          "base_uri": "https://localhost:8080/"
        },
        "id": "3geOP_fidWpL",
        "outputId": "ae25b4b8-3266-4f0d-9e4a-21b9262f0f9d"
      },
      "execution_count": 21,
      "outputs": [
        {
          "output_type": "stream",
          "name": "stdout",
          "text": [
            "Training shape:  (7223, 9)\n",
            "Testing shape:  (1806, 9)\n",
            "Labels Training shape:  (7223,)\n",
            "Labels Testing shape:  (1806,)\n"
          ]
        }
      ]
    },
    {
      "cell_type": "code",
      "source": [
        "# Normalize the train and test data\n",
        "\n",
        "from sklearn.preprocessing import StandardScaler\n",
        "scaler = StandardScaler()\n",
        "scaler.fit(X_train)\n",
        "\n",
        "X_train = scaler.transform(X_train)\n",
        "X_test = scaler.transform(X_test)"
      ],
      "metadata": {
        "id": "S2zGDXHNdiZ5"
      },
      "execution_count": 53,
      "outputs": []
    },
    {
      "cell_type": "code",
      "source": [
        "# Threshold for removing correlated variables with Pearson correlation coefficient being greater than 0.9.\n",
        "threshold = 0.90\n",
        "\n",
        "corr_matrix =pd.DataFrame(X_train).corr(method='pearson').abs()\n",
        "print(corr_matrix)\n",
        "\n",
        "upper = corr_matrix.where(np.triu(np.ones(corr_matrix.shape), k=1).astype(np.bool))\n",
        "\n",
        "to_drop = [column for column in upper.columns if any(upper[column] > threshold)]\n",
        "\n",
        "print('There are %d columns to remove.' % (len(to_drop)))"
      ],
      "metadata": {
        "colab": {
          "base_uri": "https://localhost:8080/"
        },
        "id": "hE2lJUMIHKJF",
        "outputId": "a470d582-8ccf-42dd-bcc3-c7f4a6c1b5f2"
      },
      "execution_count": 59,
      "outputs": [
        {
          "output_type": "stream",
          "name": "stdout",
          "text": [
            "          0         1         2  ...         6         7         8\n",
            "0  1.000000  0.145095  0.045300  ...  0.049623  0.066122  0.008692\n",
            "1  0.145095  1.000000  0.018105  ...  0.066771  0.046577  0.094406\n",
            "2  0.045300  0.018105  1.000000  ...  0.023516  0.015674  0.020729\n",
            "3  0.012258  0.371089  0.066292  ...  0.276755  0.000984  0.146110\n",
            "4  0.139682  0.100330  0.111240  ...  0.061654  0.072656  0.064459\n",
            "5  0.011374  0.091850  0.040774  ...  0.301817  0.198504  0.641328\n",
            "6  0.049623  0.066771  0.023516  ...  1.000000  0.006428  0.313292\n",
            "7  0.066122  0.046577  0.015674  ...  0.006428  1.000000  0.174677\n",
            "8  0.008692  0.094406  0.020729  ...  0.313292  0.174677  1.000000\n",
            "\n",
            "[9 rows x 9 columns]\n",
            "There are 0 columns to remove.\n"
          ]
        }
      ]
    },
    {
      "cell_type": "code",
      "source": [
        "# Using k = 5 as default\n",
        "\n",
        "k = 5\n",
        "neigh = KNeighborsClassifier(n_neighbors = k).fit(X_train,y_train)\n",
        "y_pred = neigh.predict(X_test)\n",
        "print(\"Accuracy of model at K=1 is\",metrics.accuracy_score(y_test, y_pred))"
      ],
      "metadata": {
        "colab": {
          "base_uri": "https://localhost:8080/"
        },
        "id": "ZdpQM5Ycx3wC",
        "outputId": "04136a5f-23ca-4afe-8002-2b5e2d4b8639"
      },
      "execution_count": 76,
      "outputs": [
        {
          "output_type": "stream",
          "name": "stdout",
          "text": [
            "Accuracy of model at K=1 is 0.8737541528239202\n"
          ]
        }
      ]
    },
    {
      "cell_type": "code",
      "source": [
        "y_pred_df = pd.DataFrame(y_pred)\n",
        "y_pred_df.value_counts()"
      ],
      "metadata": {
        "colab": {
          "base_uri": "https://localhost:8080/"
        },
        "id": "CuyTCxDT330V",
        "outputId": "65867347-36dc-4745-9edc-d8b4c8066e48"
      },
      "execution_count": 77,
      "outputs": [
        {
          "output_type": "execute_result",
          "data": {
            "text/plain": [
              "5    925\n",
              "4    341\n",
              "3    211\n",
              "1    166\n",
              "2    122\n",
              "7     41\n",
              "dtype: int64"
            ]
          },
          "metadata": {},
          "execution_count": 77
        }
      ]
    },
    {
      "cell_type": "code",
      "source": [
        "# Confusion Matrix for k=5\n",
        "\n",
        "cm = confusion_matrix(y_test, y_pred)\n",
        "\n",
        "print(confusion_matrix(y_test, y_pred))\n",
        "print(classification_report(y_test, y_pred))\n"
      ],
      "metadata": {
        "colab": {
          "base_uri": "https://localhost:8080/"
        },
        "id": "wLfdqrCryFtR",
        "outputId": "14548cc5-673c-4e3f-fcb1-d13ded31a99b"
      },
      "execution_count": 78,
      "outputs": [
        {
          "output_type": "stream",
          "name": "stdout",
          "text": [
            "[[141   0   3   0  17   0]\n",
            " [  0 104   1   2  19   0]\n",
            " [  2   7 166  21  16   0]\n",
            " [  0   2  24 292  20   0]\n",
            " [ 23   9  17  26 849  15]\n",
            " [  0   0   0   0   4  26]]\n",
            "              precision    recall  f1-score   support\n",
            "\n",
            "           1       0.85      0.88      0.86       161\n",
            "           2       0.85      0.83      0.84       126\n",
            "           3       0.79      0.78      0.78       212\n",
            "           4       0.86      0.86      0.86       338\n",
            "           5       0.92      0.90      0.91       939\n",
            "           7       0.63      0.87      0.73        30\n",
            "\n",
            "    accuracy                           0.87      1806\n",
            "   macro avg       0.82      0.85      0.83      1806\n",
            "weighted avg       0.88      0.87      0.87      1806\n",
            "\n"
          ]
        }
      ]
    },
    {
      "cell_type": "code",
      "source": [
        "cm_df = pd.DataFrame(cm,\n",
        "                     index = ['1','2','3','4','5','7'], \n",
        "                     columns = ['1','2','3','4','5','7'])\n",
        "\n",
        "plt.figure(figsize=(15,5))\n",
        "sns.heatmap(cm_df, annot=True, fmt='g')\n",
        "plt.title('Confusion Matrix for K=5')\n",
        "plt.ylabel('Actal Values')\n",
        "plt.xlabel('Predicted Values')\n",
        "plt.show()"
      ],
      "metadata": {
        "colab": {
          "base_uri": "https://localhost:8080/",
          "height": 350
        },
        "id": "G5JVK8CHKQLR",
        "outputId": "cd03861f-c713-435a-c76b-b1e5f28202a4"
      },
      "execution_count": 81,
      "outputs": [
        {
          "output_type": "display_data",
          "data": {
            "image/png": "[encoded data removed]",
            "text/plain": [
              "<Figure size 1080x360 with 2 Axes>"
            ]
          },
          "metadata": {
            "needs_background": "light"
          }
        }
      ]
    },
    {
      "cell_type": "markdown",
      "source": [
        "**b) Apply parameters optimization to (a) and evaluate the \n",
        "performance.**"
      ],
      "metadata": {
        "id": "wSiG3CIbE0T4"
      }
    },
    {
      "cell_type": "code",
      "source": [
        "# Choosing K, given a range from k=1 to k=10\n",
        "\n",
        "training_accuracy = []\n",
        "test_accuracy = []\n",
        "\n",
        "neighbors_setting = range(1,10)\n",
        "\n",
        "for n_neighbors in neighbors_setting:\n",
        "    knn = KNeighborsClassifier(n_neighbors=n_neighbors)\n",
        "    knn.fit(X_train,y_train)\n",
        "    training_accuracy.append(knn.score(X_train, y_train))\n",
        "    test_accuracy.append(knn.score(X_test, y_test))\n",
        " \n",
        "plt.plot(neighbors_setting,training_accuracy, label='Accuracy of the training set')\n",
        "plt.plot(neighbors_setting,test_accuracy, label='Accuracy of the test set')\n",
        "plt.ylabel('Accuracy')\n",
        "plt.xlabel('Number of Neighbors')\n",
        "plt.legend()"
      ],
      "metadata": {
        "colab": {
          "base_uri": "https://localhost:8080/",
          "height": 296
        },
        "id": "UyuQy1mRljfY",
        "outputId": "bf59b61c-c061-4ada-8245-3fdc8b6b8db9"
      },
      "execution_count": 45,
      "outputs": [
        {
          "output_type": "execute_result",
          "data": {
            "text/plain": [
              "<matplotlib.legend.Legend at 0x7fbce1658d10>"
            ]
          },
          "metadata": {},
          "execution_count": 45
        },
        {
          "output_type": "display_data",
          "data": {
            "image/png": "[encoded data removed]",
            "text/plain": [
              "<Figure size 432x288 with 1 Axes>"
            ]
          },
          "metadata": {
            "needs_background": "light"
          }
        }
      ]
    },
    {
      "cell_type": "code",
      "source": [
        "# k=1 yield the best accuracy\n",
        "\n",
        "print(\"Accuracy of the training set for 1NN: {:3f}\".format(training_accuracy[0]))\n",
        "print(\"Accuracy of the test set for 1NN: {:3f}\".format(test_accuracy[0]))"
      ],
      "metadata": {
        "colab": {
          "base_uri": "https://localhost:8080/"
        },
        "id": "G0Hh0VoFq_JK",
        "outputId": "c716c512-c4f2-4784-e780-5868bb59a93e"
      },
      "execution_count": 38,
      "outputs": [
        {
          "output_type": "stream",
          "name": "stdout",
          "text": [
            "Accuracy of the training set for 1NN: 0.990863\n",
            "Accuracy of the test set for 1NN: 0.904208\n"
          ]
        }
      ]
    },
    {
      "cell_type": "code",
      "source": [
        "# Examine accuracy from k=1 to k=10\n",
        "\n",
        "acc = []\n",
        "for i in range(1,10):\n",
        "    neigh = KNeighborsClassifier(n_neighbors = i).fit(X_train,y_train)\n",
        "    yhat = neigh.predict(X_test)\n",
        "    acc.append(metrics.accuracy_score(y_test, yhat))\n",
        "    \n",
        "plt.plot(range(1,10),acc,color = 'blue',linestyle='dashed', \n",
        "         marker='o',markerfacecolor='red', markersize=10)\n",
        "plt.title('Accuracy vs. K')\n",
        "plt.xlabel('K')\n",
        "plt.ylabel('Accuracy')"
      ],
      "metadata": {
        "colab": {
          "base_uri": "https://localhost:8080/",
          "height": 312
        },
        "id": "aHi9dfblpxkh",
        "outputId": "7cb1bb19-b8ef-4977-e458-e1339c236c2b"
      },
      "execution_count": 57,
      "outputs": [
        {
          "output_type": "execute_result",
          "data": {
            "text/plain": [
              "Text(0, 0.5, 'Accuracy')"
            ]
          },
          "metadata": {},
          "execution_count": 57
        },
        {
          "output_type": "display_data",
          "data": {
            "image/png": "[encoded data removed]",
            "text/plain": [
              "<Figure size 432x288 with 1 Axes>"
            ]
          },
          "metadata": {
            "needs_background": "light"
          }
        }
      ]
    },
    {
      "cell_type": "code",
      "source": [
        "# Examine error rate from k=1 to k=10\n",
        "\n",
        "error_rate = []\n",
        "for i in range(1,10):\n",
        " knn = KNeighborsClassifier(n_neighbors=i)\n",
        " knn.fit(X_train,y_train)\n",
        " pred_i = knn.predict(X_test)\n",
        " error_rate.append(np.mean(pred_i != y_test))\n",
        "\n",
        "plt.plot(range(1,10),error_rate,color='blue', linestyle='dashed', \n",
        "         marker='o',markerfacecolor='red', markersize=10)\n",
        "plt.title('Error Rate vs. K')\n",
        "plt.xlabel('K')\n",
        "plt.ylabel('Error Rate')"
      ],
      "metadata": {
        "colab": {
          "base_uri": "https://localhost:8080/",
          "height": 312
        },
        "id": "28Y9n-bGpp5x",
        "outputId": "59fa23ae-b99a-46bc-c3f7-e90e21cbf304"
      },
      "execution_count": 61,
      "outputs": [
        {
          "output_type": "execute_result",
          "data": {
            "text/plain": [
              "Text(0, 0.5, 'Error Rate')"
            ]
          },
          "metadata": {},
          "execution_count": 61
        },
        {
          "output_type": "display_data",
          "data": {
            "image/png": "[encoded data removed]",
            "text/plain": [
              "<Figure size 432x288 with 1 Axes>"
            ]
          },
          "metadata": {
            "needs_background": "light"
          }
        }
      ]
    },
    {
      "cell_type": "code",
      "source": [
        "# Testing k=1 and print the model's accuracy score\n",
        "\n",
        "k = 1\n",
        "neigh = KNeighborsClassifier(n_neighbors = k).fit(X_train,y_train)\n",
        "y_pred1 = neigh.predict(X_test)\n",
        "print(\"Accuracy of model at K=1 is\",metrics.accuracy_score(y_test, y_pred1))"
      ],
      "metadata": {
        "colab": {
          "base_uri": "https://localhost:8080/"
        },
        "id": "bj_1TO-lr2KX",
        "outputId": "cb5ad98a-e865-4daf-beec-f8c33de26752"
      },
      "execution_count": 72,
      "outputs": [
        {
          "output_type": "stream",
          "name": "stdout",
          "text": [
            "Accuracy of model at K=1 is 0.9042081949058693\n"
          ]
        }
      ]
    },
    {
      "cell_type": "code",
      "source": [
        "\n",
        "cm1 = confusion_matrix(y_test, y_pred1)\n",
        "\n",
        "print(confusion_matrix(y_test, y_pred1))\n",
        "print(classification_report(y_test, y_pred1))"
      ],
      "metadata": {
        "colab": {
          "base_uri": "https://localhost:8080/"
        },
        "id": "VZ7RD93Fs9To",
        "outputId": "4a49b347-dc70-4896-8979-eb86e445dc39"
      },
      "execution_count": 74,
      "outputs": [
        {
          "output_type": "stream",
          "name": "stdout",
          "text": [
            "[[147   0   0   0  14   0]\n",
            " [  0 116   1   0   9   0]\n",
            " [  0   4 182  11  15   0]\n",
            " [  0   2  21 298  17   0]\n",
            " [ 15   9  16  25 867   7]\n",
            " [  0   0   0   0   7  23]]\n",
            "              precision    recall  f1-score   support\n",
            "\n",
            "           1       0.91      0.91      0.91       161\n",
            "           2       0.89      0.92      0.90       126\n",
            "           3       0.83      0.86      0.84       212\n",
            "           4       0.89      0.88      0.89       338\n",
            "           5       0.93      0.92      0.93       939\n",
            "           7       0.77      0.77      0.77        30\n",
            "\n",
            "    accuracy                           0.90      1806\n",
            "   macro avg       0.87      0.88      0.87      1806\n",
            "weighted avg       0.90      0.90      0.90      1806\n",
            "\n"
          ]
        }
      ]
    },
    {
      "cell_type": "code",
      "source": [
        "# Plotting the confusion matrix \n",
        "\n",
        "cm1_df = pd.DataFrame(cm1,\n",
        "                     index = ['1','2','3','4','5','7'], \n",
        "                     columns = ['1','2','3','4','5','7'])\n",
        "\n",
        "plt.figure(figsize=(15,5))\n",
        "sns.heatmap(cm1_df, annot=True, fmt='g')\n",
        "plt.title('Confusion Matrix for K=1')\n",
        "plt.ylabel('Actal Values')\n",
        "plt.xlabel('Predicted Values')\n",
        "plt.show()"
      ],
      "metadata": {
        "colab": {
          "base_uri": "https://localhost:8080/",
          "height": 350
        },
        "id": "wD0dO3Q4LFJX",
        "outputId": "dfb33e16-8652-4ae6-f7e4-b17d3a6fbb3a"
      },
      "execution_count": 80,
      "outputs": [
        {
          "output_type": "display_data",
          "data": {
            "image/png": "[encoded data removed]",
            "text/plain": [
              "<Figure size 1080x360 with 2 Axes>"
            ]
          },
          "metadata": {
            "needs_background": "light"
          }
        }
      ]
    },
    {
      "cell_type": "markdown",
      "source": [
        "**c) Explain the Confusion Matrix obtained in (a) y (b), that is, before and after parameters optimization.**"
      ],
      "metadata": {
        "id": "HNTSUBYjE9tl"
      }
    },
    {
      "cell_type": "code",
      "source": [
        "fig, ax =plt.subplots(1,2,figsize=(18,8))\n",
        "\n",
        "sns.heatmap(cm_df, annot=True, fmt='g', ax=ax[0])\n",
        "sns.heatmap(cm1_df, annot=True, fmt='g', ax=ax[1])\n",
        "\n",
        "plt.show()"
      ],
      "metadata": {
        "colab": {
          "base_uri": "https://localhost:8080/",
          "height": 483
        },
        "id": "SaEzAckBOUe8",
        "outputId": "86b6deec-e860-4367-f381-1681767d9c83"
      },
      "execution_count": 98,
      "outputs": [
        {
          "output_type": "display_data",
          "data": {
            "image/png": "[encoded data removed]",
            "text/plain": [
              "<Figure size 1296x576 with 4 Axes>"
            ]
          },
          "metadata": {
            "needs_background": "light"
          }
        }
      ]
    },
    {
      "cell_type": "markdown",
      "source": [
        "#Confusion Matrix Before/After Parameter Optimization Summary:\n",
        "\n",
        "**The left confusion matrix is k=5 and the right confusion matrix is k=1. By parameter optimization from k=5 to k=1, we improved the model accuracy from 0.8737 to 0.9042. In the k=1 confusion matrix, the diagonal numbers 147,116,182,298 and 867 are the TRUE POSITIVES. For k=1 model, for the flow pattern 1, 14 pattern have been falsely identified as flow pattern 5. For the k=5 model, for the flow pattern 1, 3 patterns are falsely identified as flow pattern 3 and 17 patterns falsely identified as flow pattern 5. At this point, we can see that k=1 model predicted less falsely flow patterns than k=5 model. k=1 model also have more TRUE POSITIVES values.**"
      ],
      "metadata": {
        "id": "dhUV2GTPLgGw"
      }
    }
  ]
}