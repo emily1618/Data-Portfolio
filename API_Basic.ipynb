{
  "nbformat": 4,
  "nbformat_minor": 0,
  "metadata": {
    "colab": {
      "name": "API Basic.ipynb",
      "provenance": [],
      "authorship_tag": "ABX9TyNgbzuJ015tq2VCNWXc3QLv"
    },
    "kernelspec": {
      "name": "python3",
      "display_name": "Python 3"
    },
    "language_info": {
      "name": "python"
    }
  },
  "cells": [
    {
      "cell_type": "markdown",
      "source": [
        "# API Basic\n"
      ],
      "metadata": {
        "id": "p5y_PBDyyN3P"
      }
    },
    {
      "cell_type": "markdown",
      "source": [
        "## Get a API"
      ],
      "metadata": {
        "id": "D-n54kbM4nLo"
      }
    },
    {
      "cell_type": "code",
      "execution_count": null,
      "metadata": {
        "id": "zTkuAfRW6oSu"
      },
      "outputs": [],
      "source": [
        "# import the packages\n",
        "\n",
        "import requests\n",
        "import json"
      ]
    },
    {
      "cell_type": "code",
      "source": [
        "# obtain api from api.stackexchange\n",
        "\n",
        "response = requests.get('http://api.stackexchange.com/2.3/questions?order=desc&sort=activity&site=stackoverflow')\n",
        "print(response)"
      ],
      "metadata": {
        "colab": {
          "base_uri": "https://localhost:8080/"
        },
        "id": "GkSu80R6x6GW",
        "outputId": "ecbda387-5007-4b0e-b045-926ed5a73db3"
      },
      "execution_count": null,
      "outputs": [
        {
          "output_type": "stream",
          "name": "stdout",
          "text": [
            "<Response [200]>\n"
          ]
        }
      ]
    },
    {
      "cell_type": "code",
      "source": [
        "# the response"
      ],
      "metadata": {
        "colab": {
          "base_uri": "https://localhost:8080/"
        },
        "id": "wSJsul7myIcS",
        "outputId": "abc26f48-7ad1-48a6-f2f3-94fee508add2"
      },
      "execution_count": null,
      "outputs": [
        {
          "output_type": "stream",
          "name": "stdout",
          "text": [
            "{'items': [{'tags': ['python', 'csv'], 'owner': {'account_id': 4647444, 'reputation': 1, 'user_id': 3765252, 'user_type': 'registered', 'profile_image': 'https://www.gravatar.com/avatar/?s=256&d=identicon&r=PG&f=1', 'display_name': 'user3765252', 'link': 'https://stackoverflow.com/users/3765252/user3765252'}, 'is_answered': False, 'view_count': 6, 'answer_count': 0, 'score': -1, 'last_activity_date': 1660152214, 'creation_date': 1660152160, 'last_edit_date': 1660152214, 'question_id': 73310386, 'content_license': 'CC BY-SA 4.0', 'link': 'https://stackoverflow.com/questions/73310386/remove-similar-rows-from-a-csv-file', 'title': 'Remove similar rows from a csv file'}, {'tags': ['react-native', 'expo', 'runtime-error', 'expo-go'], 'owner': {'account_id': 23574374, 'reputation': 1, 'user_id': 17614208, 'user_type': 'registered', 'profile_image': 'https://lh3.googleusercontent.com/a/AATXAJwhpPh3oe7nIi47DQN2iAdXEPBn6KYjMQ5LuIcoQw=k-s256', 'display_name': 'Abhishek', 'link': 'https://stackoverflow.com/users/17614208/abhishek'}, 'is_answered': False, 'view_count': 60, 'answer_count': 1, 'score': 0, 'last_activity_date': 1660152212, 'creation_date': 1648571465, 'question_id': 71665713, 'content_license': 'CC BY-SA 4.0', 'link': 'https://stackoverflow.com/questions/71665713/run-reactnativeexpo-project-in-chromebook-virtual-linux-machine', 'title': 'Run reactnative(Expo) project in chromebook / virtual linux machine'}, {'tags': ['android', 'flutter', 'visual-studio', 'dart'], 'owner': {'account_id': 26031118, 'reputation': 1, 'user_id': 19737335, 'user_type': 'registered', 'profile_image': 'https://lh3.googleusercontent.com/a-/AFdZucpmsY6NzpiywRj5YVxX8AYVAamGqoIP-SCAvLJYVA=k-s256', 'display_name': 'dika salman', 'link': 'https://stackoverflow.com/users/19737335/dika-salman'}, 'is_answered': False, 'view_count': 13, 'answer_count': 0, 'score': 0, 'last_activity_date': 1660152199, 'creation_date': 1660151523, 'last_edit_date': 1660152199, 'question_id': 73310265, 'content_license': 'CC BY-SA 4.0', 'link': 'https://stackoverflow.com/questions/73310265/keytool-error-java-io-filenotfoundexception', 'title': 'keytool error: java.io.FileNotFoundException'}, {'tags': ['google-apps-script', 'google-cloud-platform', 'google-oauth', 'add-on', 'google-apps-marketplace'], 'migrated_from': {'other_site': {'aliases': ['https://nothingtoinstall.com'], 'styling': {'tag_background_color': '#E2EDFA', 'tag_foreground_color': '#5D7A9C', 'link_color': '#426389'}, 'related_sites': [{'relation': 'meta', 'api_site_parameter': 'webapps.meta', 'site_url': 'https://webapps.meta.stackexchange.com', 'name': 'Web Applications Meta Stack Exchange'}, {'relation': 'chat', 'site_url': 'https://chat.stackexchange.com?tab=site&host=webapps.stackexchange.com', 'name': 'Chat Stack Exchange'}], 'launch_date': 1285874037, 'open_beta_date': 1278529200, 'closed_beta_date': 1277924400, 'site_state': 'normal', 'high_resolution_icon_url': 'https://cdn.sstatic.net/Sites/webapps/Img/apple-touch-icon@2.png', 'twitter_account': 'StackWebApps', 'favicon_url': 'https://cdn.sstatic.net/Sites/webapps/Img/favicon.ico', 'icon_url': 'https://cdn.sstatic.net/Sites/webapps/Img/apple-touch-icon.png', 'audience': 'power users of web applications', 'site_url': 'https://webapps.stackexchange.com', 'api_site_parameter': 'webapps', 'logo_url': 'https://cdn.sstatic.net/Sites/webapps/Img/logo.png', 'name': 'Web Applications', 'site_type': 'main_site'}, 'on_date': 1660136781, 'question_id': 166014}, 'owner': {'account_id': 1102393, 'reputation': 3791, 'user_id': 1978840, 'user_type': 'registered', 'accept_rate': 67, 'profile_image': 'https://i.stack.imgur.com/3NIjN.jpg?s=256&g=1', 'display_name': 'John Pankowicz', 'link': 'https://stackoverflow.com/users/1978840/john-pankowicz'}, 'is_answered': False, 'view_count': 26, 'answer_count': 2, 'score': 0, 'last_activity_date': 1660152198, 'creation_date': 1660135560, 'last_edit_date': 1660136841, 'question_id': 73306876, 'link': 'https://stackoverflow.com/questions/73306876/how-to-handle-duplicate-fields-tos-privacy-policy-on-oauth-consent-marketpl', 'title': 'How to handle duplicate fields (TOS, Privacy Policy) on OAuth Consent &amp; Marketplace Listing'}, {'tags': ['java', 'xml', 'android-studio', 'android-activity', 'problem-spring'], 'owner': {'account_id': 24363078, 'reputation': 1, 'user_id': 18297174, 'user_type': 'registered', 'profile_image': 'https://lh3.googleusercontent.com/a-/AOh14GjHJst7mf2Euq5dF_GEYZv1kKvQt1qKazeGO8eoyg=k-s256', 'display_name': 'Queen Islam', 'link': 'https://stackoverflow.com/users/18297174/queen-islam'}, 'is_answered': False, 'view_count': 12, 'answer_count': 1, 'score': 0, 'last_activity_date': 1660152195, 'creation_date': 1660152003, 'last_edit_date': 1660152195, 'question_id': 73310346, 'content_license': 'CC BY-SA 4.0', 'link': 'https://stackoverflow.com/questions/73310346/i-tried-wht-ever-i-can-to-read-and-follw-but-alwys-i-new-problem-come-out', 'title': 'i tried wht ever i can to read and follw but alwys i new problem come out'}, {'tags': ['javascript', 'node.js', 'express', 'routes'], 'owner': {'account_id': 25110238, 'reputation': 53, 'user_id': 18959979, 'user_type': 'registered', 'profile_image': 'https://www.gravatar.com/avatar/4668096e907f4b343e2b996bbf9db53b?s=256&d=identicon&r=PG', 'display_name': 'xpress', 'link': 'https://stackoverflow.com/users/18959979/xpress'}, 'is_answered': False, 'view_count': 14, 'answer_count': 1, 'score': 1, 'last_activity_date': 1660152194, 'creation_date': 1660149903, 'question_id': 73309966, 'content_license': 'CC BY-SA 4.0', 'link': 'https://stackoverflow.com/questions/73309966/cannot-get-my-routes-that-have-been-defined', 'title': 'Cannot get my routes that have been defined'}, {'tags': ['python', 'graph', 'networkx', 'isomorphism'], 'owner': {'account_id': 20095910, 'reputation': 1222, 'user_id': 14735451, 'user_type': 'registered', 'profile_image': 'https://i.stack.imgur.com/BlY6t.jpg?s=256&g=1', 'display_name': 'Penguin', 'link': 'https://stackoverflow.com/users/14735451/penguin'}, 'is_answered': False, 'view_count': 11, 'answer_count': 0, 'score': 1, 'last_activity_date': 1660152194, 'creation_date': 1660151816, 'last_edit_date': 1660152194, 'question_id': 73310314, 'content_license': 'CC BY-SA 4.0', 'link': 'https://stackoverflow.com/questions/73310314/how-to-match-subgraphs-with-edge-attributes-in-networkx-correctly', 'title': 'How to match subgraphs with edge attributes in networkx correctly?'}, {'tags': ['mongoose', 'aggregate'], 'owner': {'account_id': 5791723, 'reputation': 1, 'user_id': 4853123, 'user_type': 'registered', 'profile_image': 'https://graph.facebook.com/852409174797421/picture?type=large', 'display_name': 'Prema Pandian', 'link': 'https://stackoverflow.com/users/4853123/prema-pandian'}, 'is_answered': False, 'view_count': 2, 'answer_count': 0, 'score': 0, 'last_activity_date': 1660152189, 'creation_date': 1660152189, 'question_id': 73310395, 'content_license': 'CC BY-SA 4.0', 'link': 'https://stackoverflow.com/questions/73310395/mongoose-aggregate-to-group-documents-by-list-of-date-range', 'title': 'mongoose aggregate to group documents by list of date range'}, {'tags': ['c#', 'wpf'], 'owner': {'account_id': 22511883, 'reputation': 1, 'user_id': 16706740, 'user_type': 'registered', 'profile_image': 'https://lh3.googleusercontent.com/a-/AOh14GjoB_Tpjudee_jpVLt0QAhXkLx_w36QUohToc3ewQ=k-s256', 'display_name': 'Kamran Tajerbashi', 'link': 'https://stackoverflow.com/users/16706740/kamran-tajerbashi'}, 'is_answered': False, 'view_count': 2, 'answer_count': 0, 'score': 0, 'last_activity_date': 1660152189, 'creation_date': 1660152189, 'question_id': 73310394, 'content_license': 'CC BY-SA 4.0', 'link': 'https://stackoverflow.com/questions/73310394/handycontrol-wpf-c-not-load-in-file', 'title': 'HandyControl WPF C# not Load in file'}, {'tags': ['javascript', 'html', 'typescript'], 'owner': {'account_id': 25841763, 'reputation': 1, 'user_id': 19577211, 'user_type': 'registered', 'profile_image': 'https://lh3.googleusercontent.com/a-/AFdZucoU6soP248LY2ByhkQefLbaSYQ_-dUH9ETA_A-Awg=k-s256', 'display_name': 'GregoryEA', 'link': 'https://stackoverflow.com/users/19577211/gregoryea'}, 'is_answered': False, 'view_count': 4, 'answer_count': 0, 'score': 0, 'last_activity_date': 1660152189, 'creation_date': 1660152160, 'last_edit_date': 1660152189, 'question_id': 73310387, 'content_license': 'CC BY-SA 4.0', 'link': 'https://stackoverflow.com/questions/73310387/it-is-necessary-that-the-click-is-triggered-on-mobile-devices-but-it-does-not-w', 'title': 'It is necessary that the click is triggered on mobile devices, but it does not work on a PC'}, {'tags': ['automated-tests', 'cypress', 'automation-testing'], 'owner': {'account_id': 22192122, 'reputation': 77, 'user_id': 16434135, 'user_type': 'registered', 'profile_image': 'https://www.gravatar.com/avatar/c559f478edc142c91558d70a32864279?s=256&d=identicon&r=PG&f=1', 'display_name': 'ruffainn', 'link': 'https://stackoverflow.com/users/16434135/ruffainn'}, 'is_answered': False, 'view_count': 2, 'answer_count': 0, 'score': 0, 'last_activity_date': 1660152187, 'creation_date': 1660152187, 'question_id': 73310393, 'content_license': 'CC BY-SA 4.0', 'link': 'https://stackoverflow.com/questions/73310393/how-to-structure-my-automation-framework-cypress', 'title': 'How to Structure my automation framework [Cypress]'}, {'tags': ['perl', 'hash', 'copy', 'clone'], 'owner': {'account_id': 6497837, 'reputation': 373, 'user_id': 5029837, 'user_type': 'registered', 'accept_rate': 57, 'profile_image': 'https://www.gravatar.com/avatar/0627ce9598ef620a02bb11ab1b2d7a06?s=256&d=identicon&r=PG&f=1', 'display_name': 'Colin', 'link': 'https://stackoverflow.com/users/5029837/colin'}, 'is_answered': False, 'view_count': 24, 'answer_count': 1, 'score': 0, 'last_activity_date': 1660152183, 'creation_date': 1660145902, 'question_id': 73309079, 'content_license': 'CC BY-SA 4.0', 'link': 'https://stackoverflow.com/questions/73309079/creating-sub-hashes-in-main-hash', 'title': 'Creating sub-hashes in main hash'}, {'tags': ['sql', 'sql-server'], 'owner': {'account_id': 6445120, 'reputation': 169, 'user_id': 4993840, 'user_type': 'registered', 'profile_image': 'https://graph.facebook.com/842847552463137/picture?type=large', 'display_name': 'Peter Rundqvist', 'link': 'https://stackoverflow.com/users/4993840/peter-rundqvist'}, 'is_answered': False, 'view_count': 2, 'answer_count': 0, 'score': 0, 'last_activity_date': 1660152182, 'creation_date': 1660152182, 'question_id': 73310391, 'content_license': 'CC BY-SA 4.0', 'link': 'https://stackoverflow.com/questions/73310391/how-to-create-recordset-w-columns-for-previous-3-column-values', 'title': 'How to create recordset w/ columns for previous 3 column values?'}, {'tags': ['node.js', 'mongodb', 'express', 'mongoose'], 'owner': {'account_id': 7490153, 'reputation': 151, 'user_id': 5692163, 'user_type': 'registered', 'accept_rate': 100, 'profile_image': 'https://lh4.googleusercontent.com/-xiHzXVfm6tw/AAAAAAAAAAI/AAAAAAAAAEM/KiF7LZOEnyw/photo.jpg?sz=256', 'display_name': 'Michael DaSilva', 'link': 'https://stackoverflow.com/users/5692163/michael-dasilva'}, 'is_answered': False, 'view_count': 2, 'answer_count': 0, 'score': 0, 'last_activity_date': 1660152176, 'creation_date': 1660152176, 'question_id': 73310390, 'content_license': 'CC BY-SA 4.0', 'link': 'https://stackoverflow.com/questions/73310390/how-to-save-then-findandupdate-mongodb', 'title': 'How to save then findAndUpdate? Mongodb'}, {'tags': ['r', 'for-loop', 'dplyr', 'stringr', 'tapply'], 'owner': {'account_id': 21653329, 'reputation': 91, 'user_id': 15973563, 'user_type': 'registered', 'profile_image': 'https://www.gravatar.com/avatar/af992d2adb0ff1185425e7abfb9f4b5f?s=256&d=identicon&r=PG&f=1', 'display_name': 'Aepkr', 'link': 'https://stackoverflow.com/users/15973563/aepkr'}, 'is_answered': False, 'view_count': 38, 'bounty_amount': 50, 'bounty_closes_date': 1660756967, 'answer_count': 0, 'score': 0, 'last_activity_date': 1660152167, 'creation_date': 1659977438, 'last_edit_date': 1660037353, 'question_id': 73281449, 'content_license': 'CC BY-SA 4.0', 'link': 'https://stackoverflow.com/questions/73281449/reverse-score-a-subset-of-items-based-on-variable-predefined-maximums', 'title': 'Reverse score a subset of items based on variable predefined maximums'}, {'tags': ['sql', 'oracle-sqldeveloper', 'bi-publisher'], 'owner': {'account_id': 16844624, 'reputation': 3, 'user_id': 12179138, 'user_type': 'registered', 'profile_image': 'https://lh6.googleusercontent.com/-I8QLfA_4zIs/AAAAAAAAAAI/AAAAAAAAAAA/ACHi3reA2zCjDScwlSLvbEUwz8tF1LTA3w/photo.jpg?sz=256', 'display_name': 'Sree', 'link': 'https://stackoverflow.com/users/12179138/sree'}, 'is_answered': False, 'view_count': 4, 'answer_count': 0, 'score': 0, 'last_activity_date': 1660152164, 'creation_date': 1660152164, 'question_id': 73310389, 'content_license': 'CC BY-SA 4.0', 'link': 'https://stackoverflow.com/questions/73310389/sql-query-to-get-the-output-in-the-format-yyyy-mm-for-first-date-of-the-year', 'title': 'sql query to get the output in the format &quot;YYYY/ MM&quot; for first date of the year till now'}, {'tags': ['flutter', 'null'], 'owner': {'account_id': 22791652, 'reputation': 31, 'user_id': 16945870, 'user_type': 'registered', 'profile_image': 'https://lh3.googleusercontent.com/a-/AOh14Gin19cQ452PhLxRmiMSP-Q8Mr82a-emIJGmB04cIQ=k-s256', 'display_name': 'Pimpi Rimp&#224;', 'link': 'https://stackoverflow.com/users/16945870/pimpi-rimp%c3%a0'}, 'is_answered': False, 'view_count': 3, 'answer_count': 0, 'score': 0, 'last_activity_date': 1660152164, 'creation_date': 1660152164, 'question_id': 73310388, 'content_license': 'CC BY-SA 4.0', 'link': 'https://stackoverflow.com/questions/73310388/the-following-nosuchmethoderror-was-thrown-building-builderdirty-the-getter', 'title': 'The following NoSuchMethodError was thrown building Builder(dirty): The getter &#39;data&#39; was called on null. Receiver: null Tried calling: data'}, {'tags': ['reactjs', 'api', 'json-server'], 'owner': {'account_id': 22912535, 'reputation': 11, 'user_id': 17049589, 'user_type': 'registered', 'profile_image': 'https://lh3.googleusercontent.com/a/AATXAJzqvIJqJU1tEcIzidTmc14Aq_IbFX6orG2A02ac=k-s256', 'display_name': 'Morshed Saif', 'link': 'https://stackoverflow.com/users/17049589/morshed-saif'}, 'is_answered': False, 'view_count': 14, 'answer_count': 1, 'score': 1, 'last_activity_date': 1660152162, 'creation_date': 1660151063, 'question_id': 73310187, 'content_license': 'CC BY-SA 4.0', 'link': 'https://stackoverflow.com/questions/73310187/react-form-data-submission-to-an-api-doesnt-show-changes-in-ui', 'title': 'React form data submission to an api doesn&#39;t show changes in ui'}, {'tags': ['entity-framework', 'asp.net-core-webapi', '.net-6.0'], 'owner': {'account_id': 25458345, 'reputation': 1, 'user_id': 19258600, 'user_type': 'registered', 'profile_image': 'https://www.gravatar.com/avatar/84738c0327a2071a2f29ec6f641f2fee?s=256&d=identicon&r=PG', 'display_name': 'KrzysztofKozłowski', 'link': 'https://stackoverflow.com/users/19258600/krzysztofkoz%c5%82owski'}, 'is_answered': False, 'view_count': 13, 'answer_count': 0, 'score': 0, 'last_activity_date': 1660152155, 'creation_date': 1660147257, 'last_edit_date': 1660152155, 'question_id': 73309387, 'content_license': 'CC BY-SA 4.0', 'link': 'https://stackoverflow.com/questions/73309387/how-to-create-relation-one-to-many-between-identityuser-model-and-another-model', 'title': 'How to create relation one to many between IdentityUser model and another model'}, {'tags': ['.net', 'f#', 'filehelpers', 'f#-scripting'], 'owner': {'account_id': 108680, 'reputation': 3843, 'user_id': 288360, 'user_type': 'registered', 'accept_rate': 91, 'profile_image': 'https://i.stack.imgur.com/JgYX5.png?s=256&g=1', 'display_name': 'Matthew Crews', 'link': 'https://stackoverflow.com/users/288360/matthew-crews'}, 'is_answered': False, 'view_count': 10, 'answer_count': 0, 'score': 0, 'last_activity_date': 1660152154, 'creation_date': 1660150968, 'last_edit_date': 1660152154, 'question_id': 73310173, 'content_license': 'CC BY-SA 4.0', 'link': 'https://stackoverflow.com/questions/73310173/filehelpers-not-using-correct-date-format', 'title': 'FileHelpers not using correct Date format'}, {'tags': ['r'], 'owner': {'account_id': 23808394, 'reputation': 75, 'user_id': 17817552, 'user_type': 'registered', 'profile_image': 'https://i.stack.imgur.com/HA4dn.jpg?s=256&g=1', 'display_name': 'Sphenoidale', 'link': 'https://stackoverflow.com/users/17817552/sphenoidale'}, 'is_answered': False, 'view_count': 5, 'answer_count': 0, 'score': 0, 'last_activity_date': 1660152154, 'creation_date': 1660152154, 'question_id': 73310385, 'content_license': 'CC BY-SA 4.0', 'link': 'https://stackoverflow.com/questions/73310385/r-transform-time-series-data-frame', 'title': 'R - transform time series data frame'}, {'tags': ['javascript', 'arrays', 'set-difference'], 'owner': {'account_id': 46972, 'reputation': 346201, 'user_id': 139010, 'user_type': 'registered', 'accept_rate': 81, 'profile_image': 'https://www.gravatar.com/avatar/0df2f3c2d3b43605889eb90231fb6884?s=256&d=identicon&r=PG', 'display_name': 'Matt Ball', 'link': 'https://stackoverflow.com/users/139010/matt-ball'}, 'is_answered': True, 'view_count': 106276, 'accepted_answer_id': 1723220, 'answer_count': 14, 'score': 155, 'last_activity_date': 1660152153, 'creation_date': 1258040559, 'last_edit_date': 1285598158, 'question_id': 1723168, 'content_license': 'CC BY-SA 2.5', 'link': 'https://stackoverflow.com/questions/1723168/what-is-the-fastest-or-most-elegant-way-to-compute-a-set-difference-using-javasc', 'title': 'What is the fastest or most elegant way to compute a set difference using Javascript arrays?'}, {'tags': ['excel', 'xlookup'], 'owner': {'account_id': 21104023, 'reputation': 35, 'user_id': 15513393, 'user_type': 'registered', 'profile_image': 'https://www.gravatar.com/avatar/64266512153e14444d63a2b90da23076?s=256&d=identicon&r=PG&f=1', 'display_name': 'asaysno', 'link': 'https://stackoverflow.com/users/15513393/asaysno'}, 'is_answered': True, 'view_count': 15, 'answer_count': 1, 'score': 0, 'last_activity_date': 1660152148, 'creation_date': 1660149908, 'question_id': 73309967, 'content_license': 'CC BY-SA 4.0', 'link': 'https://stackoverflow.com/questions/73309967/xlookup-exclude-columns-based-on-content', 'title': 'XLOOKUP - exclude columns based on content'}, {'tags': ['c++', 'performance', 'c++11', 'optimization', 'parallel-processing'], 'owner': {'account_id': 12948972, 'reputation': 928, 'user_id': 9476628, 'user_type': 'registered', 'profile_image': 'https://www.gravatar.com/avatar/511e8edf6080a81b993eeb4f6fca89a4?s=256&d=identicon&r=PG&f=1', 'display_name': 'jippyjoe4', 'link': 'https://stackoverflow.com/users/9476628/jippyjoe4'}, 'is_answered': True, 'view_count': 45, 'answer_count': 2, 'score': 0, 'last_activity_date': 1660152145, 'creation_date': 1660103596, 'question_id': 73300437, 'content_license': 'CC BY-SA 4.0', 'link': 'https://stackoverflow.com/questions/73300437/optimizing-calculation-to-get-length-of-longest-sequence-of-zero-bytes-in-binary', 'title': 'Optimizing Calculation to Get Length of Longest Sequence of Zero Bytes in Binary File'}, {'tags': ['pyspark', 'apache-spark-sql'], 'owner': {'account_id': 2265356, 'reputation': 147, 'user_id': 1994202, 'user_type': 'registered', 'accept_rate': 57, 'profile_image': 'https://www.gravatar.com/avatar/c150a33537473c3591023ce3ad92936d?s=256&d=identicon&r=PG', 'display_name': 'Klam', 'link': 'https://stackoverflow.com/users/1994202/klam'}, 'is_answered': False, 'view_count': 12, 'answer_count': 1, 'score': 1, 'last_activity_date': 1660152142, 'creation_date': 1660150761, 'question_id': 73310134, 'content_license': 'CC BY-SA 4.0', 'link': 'https://stackoverflow.com/questions/73310134/concatenating-json-list-attributes-in-pyspark-into-one-value', 'title': 'concatenating json list attributes in pyspark into one value'}, {'tags': ['c++'], 'owner': {'account_id': 26030796, 'reputation': 1, 'user_id': 19737060, 'user_type': 'registered', 'profile_image': 'https://www.gravatar.com/avatar/c60c20d8fc61d57f320d29f05426b7c8?s=256&d=identicon&r=PG', 'display_name': 'potti rohith', 'link': 'https://stackoverflow.com/users/19737060/potti-rohith'}, 'is_answered': False, 'view_count': 15, 'answer_count': 0, 'score': 0, 'last_activity_date': 1660152141, 'creation_date': 1660151937, 'last_edit_date': 1660152141, 'question_id': 73310337, 'content_license': 'CC BY-SA 4.0', 'link': 'https://stackoverflow.com/questions/73310337/while-i-want-to-use-the-data-members-from-h-file-to-the-other-file', 'title': 'While I want to use the data members from ,h file to the other file'}, {'tags': ['mongodb', 'http', 'go', 'server', 'routes'], 'owner': {'account_id': 23992484, 'reputation': 1, 'user_id': 17978404, 'user_type': 'registered', 'profile_image': 'https://i.stack.imgur.com/B19Ug.png?s=256&g=1', 'display_name': 'h5law', 'link': 'https://stackoverflow.com/users/17978404/h5law'}, 'is_answered': False, 'view_count': 5, 'answer_count': 0, 'score': 0, 'last_activity_date': 1660152136, 'creation_date': 1660152136, 'question_id': 73310382, 'content_license': 'CC BY-SA 4.0', 'link': 'https://stackoverflow.com/questions/73310382/mongodb-go-findone-is-returning-mongo-when-it-exists-only-in-delete-route', 'title': 'MongoDB (Go) - FindOne() is returning mongo. when it exists only in DELETE route works in other routes'}, {'tags': ['python', 'list', 'sorting'], 'owner': {'account_id': 25243333, 'reputation': 19, 'user_id': 19076925, 'user_type': 'registered', 'profile_image': 'https://lh3.googleusercontent.com/a/AATXAJz8mWNOwD1A53zsee9aUiV7Pn5K0ND8q1zJauvy=k-s256', 'display_name': 'asking questions', 'link': 'https://stackoverflow.com/users/19076925/asking-questions'}, 'is_answered': True, 'view_count': 55, 'answer_count': 2, 'score': 1, 'last_activity_date': 1660152132, 'creation_date': 1660116521, 'last_edit_date': 1660116853, 'question_id': 73302318, 'content_license': 'CC BY-SA 4.0', 'link': 'https://stackoverflow.com/questions/73302318/how-to-order-a-nested-list-in-python', 'title': 'How to order a nested list in python'}, {'tags': ['typescript', 'typescript-generics'], 'owner': {'account_id': 4049728, 'reputation': 668, 'user_id': 3329760, 'user_type': 'registered', 'profile_image': 'https://graph.facebook.com/26712443/picture?type=large', 'display_name': 'Agrejus', 'link': 'https://stackoverflow.com/users/3329760/agrejus'}, 'is_answered': False, 'view_count': 73, 'bounty_amount': 100, 'bounty_closes_date': 1660752692, 'answer_count': 1, 'score': 4, 'last_activity_date': 1660152130, 'creation_date': 1659974754, 'last_edit_date': 1660151788, 'question_id': 73280932, 'content_license': 'CC BY-SA 4.0', 'link': 'https://stackoverflow.com/questions/73280932/typescript-property-does-not-exist-on-extended-generic-interface', 'title': 'Typescript - Property does not exist on extended generic interface'}, {'tags': ['c#', 'singly-linked-list'], 'owner': {'account_id': 25626665, 'reputation': 79, 'user_id': 19397671, 'user_type': 'registered', 'profile_image': 'https://lh3.googleusercontent.com/a-/AOh14GhF97hOCi7pmGu2p64JBUqJYcAzyu34RyYpE4NenA=k-s256', 'display_name': 'Yasir', 'link': 'https://stackoverflow.com/users/19397671/yasir'}, 'is_answered': False, 'view_count': 4, 'answer_count': 0, 'score': 0, 'last_activity_date': 1660152129, 'creation_date': 1660152129, 'question_id': 73310380, 'content_license': 'CC BY-SA 4.0', 'link': 'https://stackoverflow.com/questions/73310380/will-garbage-collector-destroy-the-first-node-of-the-linked-list-if-i-point-the', 'title': 'Will Garbage collector destroy the first node of the linked list if I point the head node from first node to second node?'}], 'has_more': True, 'quota_max': 300, 'quota_remaining': 299}\n"
          ]
        }
      ]
    },
    {
      "cell_type": "code",
      "source": [
        "# Print the data when answer count is 0 or unanswered questions\n",
        "\n",
        "for data in response.json()['items']:\n",
        "  if data['answer_count'] == 0:\n",
        "    print(data['title'])\n",
        "    print(data['link'])\n",
        "  else:\n",
        "    print('skipped')"
      ],
      "metadata": {
        "colab": {
          "base_uri": "https://localhost:8080/"
        },
        "id": "HPQqGJZlzWBe",
        "outputId": "fa2b176e-844e-4f42-de05-6a3af54856f3"
      },
      "execution_count": null,
      "outputs": [
        {
          "output_type": "stream",
          "name": "stdout",
          "text": [
            "Remove similar rows from a csv file\n",
            "https://stackoverflow.com/questions/73310386/remove-similar-rows-from-a-csv-file\n",
            "skipped\n",
            "keytool error: java.io.FileNotFoundException\n",
            "https://stackoverflow.com/questions/73310265/keytool-error-java-io-filenotfoundexception\n",
            "skipped\n",
            "skipped\n",
            "skipped\n",
            "How to match subgraphs with edge attributes in networkx correctly?\n",
            "https://stackoverflow.com/questions/73310314/how-to-match-subgraphs-with-edge-attributes-in-networkx-correctly\n",
            "mongoose aggregate to group documents by list of date range\n",
            "https://stackoverflow.com/questions/73310395/mongoose-aggregate-to-group-documents-by-list-of-date-range\n",
            "HandyControl WPF C# not Load in file\n",
            "https://stackoverflow.com/questions/73310394/handycontrol-wpf-c-not-load-in-file\n",
            "It is necessary that the click is triggered on mobile devices, but it does not work on a PC\n",
            "https://stackoverflow.com/questions/73310387/it-is-necessary-that-the-click-is-triggered-on-mobile-devices-but-it-does-not-w\n",
            "How to Structure my automation framework [Cypress]\n",
            "https://stackoverflow.com/questions/73310393/how-to-structure-my-automation-framework-cypress\n",
            "skipped\n",
            "How to create recordset w/ columns for previous 3 column values?\n",
            "https://stackoverflow.com/questions/73310391/how-to-create-recordset-w-columns-for-previous-3-column-values\n",
            "How to save then findAndUpdate? Mongodb\n",
            "https://stackoverflow.com/questions/73310390/how-to-save-then-findandupdate-mongodb\n",
            "Reverse score a subset of items based on variable predefined maximums\n",
            "https://stackoverflow.com/questions/73281449/reverse-score-a-subset-of-items-based-on-variable-predefined-maximums\n",
            "sql query to get the output in the format &quot;YYYY/ MM&quot; for first date of the year till now\n",
            "https://stackoverflow.com/questions/73310389/sql-query-to-get-the-output-in-the-format-yyyy-mm-for-first-date-of-the-year\n",
            "The following NoSuchMethodError was thrown building Builder(dirty): The getter &#39;data&#39; was called on null. Receiver: null Tried calling: data\n",
            "https://stackoverflow.com/questions/73310388/the-following-nosuchmethoderror-was-thrown-building-builderdirty-the-getter\n",
            "skipped\n",
            "How to create relation one to many between IdentityUser model and another model\n",
            "https://stackoverflow.com/questions/73309387/how-to-create-relation-one-to-many-between-identityuser-model-and-another-model\n",
            "FileHelpers not using correct Date format\n",
            "https://stackoverflow.com/questions/73310173/filehelpers-not-using-correct-date-format\n",
            "R - transform time series data frame\n",
            "https://stackoverflow.com/questions/73310385/r-transform-time-series-data-frame\n",
            "skipped\n",
            "skipped\n",
            "skipped\n",
            "skipped\n",
            "While I want to use the data members from ,h file to the other file\n",
            "https://stackoverflow.com/questions/73310337/while-i-want-to-use-the-data-members-from-h-file-to-the-other-file\n",
            "MongoDB (Go) - FindOne() is returning mongo. when it exists only in DELETE route works in other routes\n",
            "https://stackoverflow.com/questions/73310382/mongodb-go-findone-is-returning-mongo-when-it-exists-only-in-delete-route\n",
            "skipped\n",
            "skipped\n",
            "Will Garbage collector destroy the first node of the linked list if I point the head node from first node to second node?\n",
            "https://stackoverflow.com/questions/73310380/will-garbage-collector-destroy-the-first-node-of-the-linked-list-if-i-point-the\n"
          ]
        }
      ]
    },
    {
      "cell_type": "markdown",
      "source": [
        "## Creating API"
      ],
      "metadata": {
        "id": "LzPzfxJD0qJ8"
      }
    },
    {
      "cell_type": "code",
      "source": [
        "#!pip install flask-ngrok\n",
        "#!pip install Flask-SQLAlchemy"
      ],
      "metadata": {
        "id": "wQfhIepf2nWZ"
      },
      "execution_count": null,
      "outputs": []
    },
    {
      "cell_type": "code",
      "source": [
        "from flask import Flask, request\n",
        "from flask_ngrok import run_with_ngrok\n",
        "import os\n",
        "from flask_sqlalchemy import SQLAlchemy"
      ],
      "metadata": {
        "id": "LGPuGLAez2-j"
      },
      "execution_count": null,
      "outputs": []
    },
    {
      "cell_type": "code",
      "source": [
        "from google.colab import drive\n",
        "drive.mount('/content/drive')"
      ],
      "metadata": {
        "colab": {
          "base_uri": "https://localhost:8080/"
        },
        "id": "YYwMWpVHBdNU",
        "outputId": "6c452a26-d6d7-45ea-ec1c-9d5244ff79ca"
      },
      "execution_count": null,
      "outputs": [
        {
          "output_type": "stream",
          "name": "stdout",
          "text": [
            "Mounted at /content/drive\n"
          ]
        }
      ]
    },
    {
      "cell_type": "code",
      "source": [
        "# Using the .ngrok.io link to test your API\n",
        "\n",
        "if __name__ == '__main__':\n",
        "   app.run()"
      ],
      "metadata": {
        "colab": {
          "base_uri": "https://localhost:8080/"
        },
        "id": "hHmttVbc3e2R",
        "outputId": "a094c5ab-dae9-426a-fa5b-0f9b18404ad9"
      },
      "execution_count": null,
      "outputs": [
        {
          "output_type": "stream",
          "name": "stdout",
          "text": [
            " * Serving Flask app \"__main__\" (lazy loading)\n",
            " * Environment: production\n",
            "\u001b[31m   WARNING: This is a development server. Do not use it in a production deployment.\u001b[0m\n",
            "\u001b[2m   Use a production WSGI server instead.\u001b[0m\n",
            " * Debug mode: off\n"
          ]
        },
        {
          "output_type": "stream",
          "name": "stderr",
          "text": [
            "INFO:werkzeug: * Running on http://127.0.0.1:5000/ (Press CTRL+C to quit)\n"
          ]
        },
        {
          "output_type": "stream",
          "name": "stdout",
          "text": [
            " * Running on http://218d-35-221-166-158.ngrok.io\n",
            " * Traffic stats available on http://127.0.0.1:4040\n"
          ]
        }
      ]
    },
    {
      "cell_type": "code",
      "source": [
        "# Use this when running on Google Colab\n",
        "\n",
        "run_with_ngrok(app)"
      ],
      "metadata": {
        "id": "eWTei_bn3VdX"
      },
      "execution_count": null,
      "outputs": []
    },
    {
      "cell_type": "code",
      "source": [
        "# setup flask\n",
        "\n",
        "app = Flask(__name__)"
      ],
      "metadata": {
        "id": "vt7HJXMW0tgY"
      },
      "execution_count": null,
      "outputs": []
    },
    {
      "cell_type": "code",
      "source": [
        "# create a sqlite database call data.db\n",
        "app.config['SQLALCHEMY_DATABASE_URI'] = 'sqlite:///data.db'\n",
        "\n",
        "# setup the db\n",
        "db = SQLAlchemy(app)"
      ],
      "metadata": {
        "colab": {
          "base_uri": "https://localhost:8080/"
        },
        "id": "ma7vwBwgASiS",
        "outputId": "50431fb5-a0c4-476b-f306-b871b2891a45"
      },
      "execution_count": null,
      "outputs": [
        {
          "output_type": "stream",
          "name": "stderr",
          "text": [
            "/usr/local/lib/python3.7/dist-packages/flask_sqlalchemy/__init__.py:873: FSADeprecationWarning: SQLALCHEMY_TRACK_MODIFICATIONS adds significant overhead and will be disabled by default in the future.  Set it to True or False to suppress this warning.\n",
            "  'SQLALCHEMY_TRACK_MODIFICATIONS adds significant overhead and '\n"
          ]
        }
      ]
    },
    {
      "cell_type": "code",
      "source": [
        "# create a model\n",
        "\n",
        "class Book(db.Model):\n",
        "  id = db.Column(db.Integer, primary_key=True)\n",
        "  name = db.Column(db.String(80), unique=True, nullable=False)\n",
        "  description = db.Column(db.String(120))\n",
        "\n",
        "  def __repr__(self):\n",
        "    return f\"{self.name} - {self.description}\"\n",
        "\n"
      ],
      "metadata": {
        "id": "q01lfA914vBe"
      },
      "execution_count": null,
      "outputs": []
    },
    {
      "cell_type": "code",
      "source": [
        "db.create_all()\n",
        "\n",
        "# create a new book\n",
        "book = Book(name='I Love You 3', description='story about three people trying to find love')"
      ],
      "metadata": {
        "id": "xaluFRucA5K8"
      },
      "execution_count": null,
      "outputs": []
    },
    {
      "cell_type": "code",
      "source": [
        "# add to table\n",
        "db.session.add(book)\n",
        "db.session.commit()"
      ],
      "metadata": {
        "id": "beyNc6w2DaOb"
      },
      "execution_count": null,
      "outputs": []
    },
    {
      "cell_type": "code",
      "source": [
        "# add a new book\n",
        "db.session.add(Book(name='3000 days over', description='story about a fighter in a zombie infested planet suriving for 3000 days.'))\n",
        "db.session.commit()"
      ],
      "metadata": {
        "id": "Tx9ZBG04FA3V"
      },
      "execution_count": null,
      "outputs": []
    },
    {
      "cell_type": "code",
      "source": [
        "Book.query.all()"
      ],
      "metadata": {
        "colab": {
          "base_uri": "https://localhost:8080/"
        },
        "id": "iCgp1WsgExQe",
        "outputId": "eafde15a-348a-4a79-a33e-5074628a924d"
      },
      "execution_count": null,
      "outputs": [
        {
          "output_type": "execute_result",
          "data": {
            "text/plain": [
              "[I Love You 3 - story about three people trying to find love,\n",
              " 3000 days over - story about a fighter in a zombie infested planet suriving for 3000 days.]"
            ]
          },
          "metadata": {},
          "execution_count": 96
        }
      ]
    },
    {
      "cell_type": "code",
      "source": [
        "#Refresh http://469f-35-221-166-158.ngrok.io and to obtain the data back in json\n",
        "\n",
        "@app.route('/books_test')\n",
        "def get_books():\n",
        "  books = Book.query.all()\n",
        "  \n",
        "  #create a dictionary\n",
        "  output = []\n",
        "  for book in books:\n",
        "    book_data = {'name': book.name, \"description\": book.description}\n",
        "    output.append(book_data)\n",
        "    \n",
        "  return{'books': output}"
      ],
      "metadata": {
        "id": "mjQRJbJZGSfV"
      },
      "execution_count": null,
      "outputs": []
    },
    {
      "cell_type": "code",
      "source": [
        "# create an id for each book. Check for using the link: http://469f-35-221-166-158.ngrok.io/<insert your id>\n",
        "\n",
        "@app.route('/books_test/<id>')\n",
        "def get_book_id(id):\n",
        "  book = Book.query.get_or_404(id)\n",
        "  return {\"name\": book.name, \"description\": drink.description}"
      ],
      "metadata": {
        "id": "ZoNka8xGHDql"
      },
      "execution_count": null,
      "outputs": []
    },
    {
      "cell_type": "code",
      "source": [
        "# add a new book using POST method\n",
        "\n",
        "@app.route('/books_test', methods=['POST'])\n",
        "def add_book():\n",
        "  book = Book(name=request.json['name'], description=request.json['description'])\n",
        "  db.session.add(book)\n",
        "  db.session.commit()\n",
        "\n",
        "  return {'id': book.id}"
      ],
      "metadata": {
        "id": "L9eCeXyYJUsB"
      },
      "execution_count": null,
      "outputs": []
    },
    {
      "cell_type": "code",
      "source": [
        "# 1) Go to POSTMAN\n",
        "# 2) POST -> add in {\"name\": \"new book name\", \"description\":\"new book description\"}\n",
        "# 3) Check the result"
      ],
      "metadata": {
        "id": "v39OFRHvJ8wD"
      },
      "execution_count": null,
      "outputs": []
    },
    {
      "cell_type": "code",
      "source": [
        "# delete a book\n",
        "@app.route('/books_test/<id>', methods=['DELETE'])\n",
        "def delete_book(id):\n",
        "  book = Book.query.get(id)\n",
        "\n",
        "  if book is None:\n",
        "    return {\"error\": \"not found\"}\n",
        "  db.session.delete(book)\n",
        "  db.session.commit()\n",
        "  return {\"message\": \"deleted\"}"
      ],
      "metadata": {
        "id": "ZBDF_rV5KlIF"
      },
      "execution_count": null,
      "outputs": []
    }
  ]
}