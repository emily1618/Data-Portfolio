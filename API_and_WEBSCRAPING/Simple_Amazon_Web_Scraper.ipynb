{
 "cells": [
  {
   "cell_type": "code",
   "execution_count": 1,
   "id": "36fa7379-17a8-4f5f-808f-688f3ef21c96",
   "metadata": {},
   "outputs": [],
   "source": [
    "# import libraries \n",
    "\n",
    "from bs4 import BeautifulSoup\n",
    "import requests\n",
    "import time\n",
    "import datetime\n",
    "import smtplib\n"
   ]
  },
  {
   "cell_type": "code",
   "execution_count": 2,
   "id": "85ca8503-ad21-4b43-89af-5bfa866c2173",
   "metadata": {},
   "outputs": [],
   "source": [
    "def check_price():\n",
    "    URL = 'https://www.amazon.com/Transformers-Studio-Deluxe-Bumblebee-Offroad/dp/B07ZZQ8ZV5/ref=sxin_13?asc_contentid=amzn1.osa.9562bbd1-3dfd-4127-b033-ab9712ae9ea7.ATVPDKIKX0DER.en_US&asc_contenttype=article&ascsubtag=amzn1.osa.9562bbd1-3dfd-4127-b033-ab9712ae9ea7.ATVPDKIKX0DER.en_US&creativeASIN=B07ZZQ8ZV5&crid=6DR1G0QPJ0RO&cv_ct_cx=transformer+toys&cv_ct_id=amzn1.osa.9562bbd1-3dfd-4127-b033-ab9712ae9ea7.ATVPDKIKX0DER.en_US&cv_ct_pg=search&cv_ct_we=asin&cv_ct_wn=osp-single-source-pecos-desktop&dchild=1&keywords=transformer+toys&linkCode=oas&pd_rd_i=B07ZZQ8ZV5&pd_rd_r=934746d6-cccc-49f1-8682-3d1bcf0a2033&pd_rd_w=DyHv5&pd_rd_wg=qG9h6&pf_rd_p=05ad5af5-c700-4e1b-92d5-aeafaae3e0ed&pf_rd_r=G8Z32Z8341RB7XG24C5A&qid=1631941814&sprefix=transfo%2Caps%2C204&sr=1-3-c26ac7f6-b43f-4741-a772-17cad7536576&tag=bestcont06-20'\n",
    "   \n",
    "    headers = {\"User-Agent\": \"Mozilla/5.0 (Windows NT 10.0; Win64; x64) AppleWebKit/537.36 (KHTML, like Gecko) Chrome/78.0.3904.108 Safari/537.36\", \"Accept-Encoding\":\"gzip, deflate\", \"Accept\":\"text/html,application/xhtml+xml,application/xml;q=0.9,*/*;q=0.8\", \"DNT\":\"1\",\"Connection\":\"close\", \"Upgrade-Insecure-Requests\":\"1\"}\n",
    "\n",
    "    page = requests.get(URL, headers=headers)\n",
    "\n",
    "    soup1 = BeautifulSoup(page.content, \"html.parser\")\n",
    "\n",
    "    soup2 = BeautifulSoup(soup1.prettify(), \"html.parser\")\n",
    "\n",
    "    title = soup2.find(id='productTitle').get_text()\n",
    "\n",
    "    price = soup2.find(id='priceblock_ourprice').get_text()\n",
    "\n",
    "    price = price.strip()[1:]\n",
    "    title = title.strip()\n",
    "    \n",
    "    price = float(price)\n",
    "\n",
    "    import datetime\n",
    "\n",
    "    today = datetime.date.today()\n",
    "    \n",
    "    import csv \n",
    "\n",
    "    header = ['Title', 'Price', 'Date']\n",
    "    data = [title, price, today]\n",
    "\n",
    "    with open('AmazonTrasnformerDataset.csv', 'a+', newline='', encoding='UTF8') as f:\n",
    "        writer = csv.writer(f)\n",
    "        writer.writerow(header)\n",
    "        writer.writerow(data)\n",
    "        \n",
    "    if(price < 40):\n",
    "        send_mail()"
   ]
  },
  {
   "cell_type": "code",
   "execution_count": null,
   "id": "1fd87457-550b-4179-8539-09275fe1c4a0",
   "metadata": {},
   "outputs": [],
   "source": [
    "# scrape the data every 24 hour\n",
    "\n",
    "while(True):\n",
    "    check_price()\n",
    "    time.sleep(86400)"
   ]
  },
  {
   "cell_type": "code",
   "execution_count": null,
   "id": "a935c296-0b9c-4feb-ac69-d7d33ee161f8",
   "metadata": {},
   "outputs": [],
   "source": [
    "# send a price alert email if price drop below $40\n",
    "\n",
    "def send_mail():\n",
    "    server = smtplib.SMTP_SSL('smtp.gmail.com',465)\n",
    "    server.ehlo()\n",
    "    #server.starttls()\n",
    "    server.ehlo()\n",
    "    server.login('xtenix@gmail.com','xxxxxxxxxxxxxx')\n",
    "    \n",
    "    subject = \"The transformer you want is below $40! Now is your chance to buy!\"\n",
    "    body = \"Buy now!\"\n",
    "    msg = f\"Subject: {subject}\\n\\n{body}\"\n",
    "    \n",
    "    server.sendmail(\n",
    "        'xtenix@gmail.com',\n",
    "        msg\n",
    "     \n",
    "    )"
   ]
  },
  {
   "cell_type": "code",
   "execution_count": null,
   "id": "3bdeba11-0bbd-4708-b308-de21c95cfa59",
   "metadata": {},
   "outputs": [],
   "source": []
  }
 ],
 "metadata": {
  "kernelspec": {
   "display_name": "Python 3",
   "language": "python",
   "name": "python3"
  },
  "language_info": {
   "codemirror_mode": {
    "name": "ipython",
    "version": 3
   },
   "file_extension": ".py",
   "mimetype": "text/x-python",
   "name": "python",
   "nbconvert_exporter": "python",
   "pygments_lexer": "ipython3",
   "version": "3.8.8"
  }
 },
 "nbformat": 4,
 "nbformat_minor": 5
}
